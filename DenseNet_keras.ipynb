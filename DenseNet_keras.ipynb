{
 "cells": [
  {
   "cell_type": "code",
   "execution_count": null,
   "metadata": {},
   "outputs": [],
   "source": [
    "from keras.models import Model\n",
    "from keras.layers import Input, merge, ZeroPadding2D\n",
    "from keras.layers.core import Dense, Dropout, Activation\n",
    "from keras.layers import Convolution2D\n",
    "from keras.layers.pooling import AveragePooling2D, GlobalAveragePooling2D, MaxPooling2D\n",
    "from keras.layers.normalization import BatchNormalization\n",
    "import keras.backend as K\n",
    "from keras.regularizers import l2\n",
    "from keras.layers.merge import Concatenate\n",
    "from keras.engine import Layer, InputSpec\n",
    "try:\n",
    "    from keras import initializations\n",
    "except ImportError:\n",
    "    from keras import initializers as initializations"
   ]
  },
  {
   "cell_type": "markdown",
   "metadata": {},
   "source": [
    "* Convolutional block"
   ]
  },
  {
   "cell_type": "code",
   "execution_count": null,
   "metadata": {},
   "outputs": [],
   "source": [
    "def conv_block(input, nb_filter, dropout_rate=None, weight_decay=1E-4):\n",
    "    ''' Apply BatchNorm, Relu 3x3, Conv2D, optional dropout\n",
    "    Args:\n",
    "        input: Input keras tensor\n",
    "        nb_filter: number of filters\n",
    "        dropout_rate: dropout rate\n",
    "        weight_decay: weight decay factor\n",
    "    Returns: keras tensor with batch_norm, relu and convolution2d added\n",
    "    '''\n",
    "    \n",
    "    concat_axis = 1 if K.image_dim_ordering() == \"th\" else -1\n",
    "    \n",
    "    x = BatchNormalization(axis=concat_axis, gamma_regularizer=l2(weight_decay),\n",
    "                           beta_regularizer=l2(weight_decay))(input)\n",
    "    x = Activation('relu')(x)\n",
    "    x = Convolution2D(nb_filter, (3, 3), kernel_initializer=\"he_uniform\", padding=\"same\",\n",
    "                      use_bias=False, kernel_regularizer=l2(weight_decay))(x)\n",
    "    if dropout_rate is not None:\n",
    "        x = Dropout(dropout_rate)(x)\n",
    "\n",
    "    return x"
   ]
  },
  {
   "cell_type": "markdown",
   "metadata": {},
   "source": [
    "* Transition bock"
   ]
  },
  {
   "cell_type": "code",
   "execution_count": null,
   "metadata": {},
   "outputs": [],
   "source": [
    "def transition_block(input, nb_filter, dropout_rate=None, weight_decay=1E-4):\n",
    "    ''' Apply BatchNorm, Relu 1x1, Conv2D, optional dropout and Maxpooling2D\n",
    "    Args:\n",
    "        input: keras tensor\n",
    "        nb_filter: number of filters\n",
    "        dropout_rate: dropout rate\n",
    "        weight_decay: weight decay factor\n",
    "    Returns: keras tensor, after applying batch_norm, relu-conv, dropout, maxpool\n",
    "    '''\n",
    "\n",
    "    concat_axis = 1 if K.image_dim_ordering() == \"th\" else -1\n",
    "\n",
    "    x = BatchNormalization(axis=concat_axis, gamma_regularizer=l2(weight_decay),\n",
    "                           beta_regularizer=l2(weight_decay))(input)\n",
    "    x = Activation('relu')(x)\n",
    "    x = Convolution2D(nb_filter, (1, 1), kernel_initializer=\"he_uniform\", padding=\"same\", use_bias=False,\n",
    "                      kernel_regularizer=l2(weight_decay))(x)\n",
    "\n",
    "    x = AveragePooling2D((2, 2), strides=(2, 2),padding='same')(x)\n",
    "\n",
    "\n",
    "    return x"
   ]
  },
  {
   "cell_type": "markdown",
   "metadata": {},
   "source": [
    "* Dense block"
   ]
  },
  {
   "cell_type": "code",
   "execution_count": null,
   "metadata": {},
   "outputs": [],
   "source": [
    "def dense_block(x, nb_layers, nb_filter, growth_rate, dropout_rate=None, weight_decay=1E-4):\n",
    "    ''' Build a dense_block where the output of each conv_block is fed to subsequent ones\n",
    "    Args:\n",
    "        x: keras tensor\n",
    "        nb_layers: the number of layers of conv_block to append to the model.\n",
    "        nb_filter: number of filters\n",
    "        growth_rate: growth rate\n",
    "        dropout_rate: dropout rate\n",
    "        weight_decay: weight decay factor\n",
    "    Returns: keras tensor with nb_layers of conv_block appended\n",
    "    '''\n",
    "\n",
    "    concat_axis = 1 if K.image_dim_ordering() == \"th\" else -1\n",
    "\n",
    "    feature_list = [x]\n",
    "\n",
    "\n",
    "    for i in range(nb_layers):\n",
    "        x = BatchNormalization(axis=concat_axis, gamma_regularizer=l2(weight_decay),\n",
    "                               beta_regularizer=l2(weight_decay))(x)\n",
    "        x = Activation('relu')(x)\n",
    "        x = Convolution2D(nb_filter, (1,1), kernel_initializer='he_uniform', padding='same', use_bias=False,\n",
    "                         kernel_regularizer=l2(weight_decay))(x)\n",
    "        x = BatchNormalization(axis=concat_axis, gamma_regularizer=l2(weight_decay),\n",
    "                               beta_regularizer=l2(weight_decay))(x)\n",
    "        x = conv_block(x, growth_rate, dropout_rate, weight_decay)\n",
    "        feature_list.append(x)\n",
    "        x = Concatenate(axis=concat_axis)(feature_list)\n",
    "        nb_filter += growth_rate\n",
    "\n",
    "    return x, nb_filter"
   ]
  },
  {
   "cell_type": "markdown",
   "metadata": {},
   "source": [
    "* DenseNet model"
   ]
  },
  {
   "cell_type": "code",
   "execution_count": null,
   "metadata": {},
   "outputs": [],
   "source": [
    "def DenseNet(nb_classes, img_dim, depth=40, nb_dense_block=3, growth_rate=12, nb_filter=16, dropout_rate=None,\n",
    "                     weight_decay=1E-4, verbose=True):\n",
    "\n",
    "    model_input = Input(shape=img_dim)\n",
    "\n",
    "    concat_axis = 1 if K.image_dim_ordering() == \"th\" else -1\n",
    "\n",
    "    assert (depth - 4) % 3 == 0, \"Depth must be 3 N + 4\"\n",
    "\n",
    "    # layers in each dense block\n",
    "    nb_layers = int((depth - 4) / 3)\n",
    "\n",
    "    # Initial convolution\n",
    "    \n",
    "    x = BatchNormalization(axis=concat_axis, gamma_regularizer=l2(weight_decay),\n",
    "                               beta_regularizer=l2(weight_decay))(model_input)\n",
    "    x = Activation('relu')(x)\n",
    "    x = Convolution2D(nb_filter, (3, 3), kernel_initializer=\"he_uniform\", name=\"initial_conv2D\", use_bias=False,\n",
    "                      kernel_regularizer=l2(weight_decay))(x)\n",
    "\n",
    "    x = MaxPooling2D((3,3), strides=(2,2), padding='same')(x)\n",
    "    \n",
    "    # Add dense blocks - 1\n",
    "    for block_idx in range(nb_dense_block):\n",
    "        x, nb_filter = dense_block(x, nb_layers, nb_filter, growth_rate, dropout_rate=dropout_rate, weight_decay=weight_decay)\n",
    "\n",
    "    # add transition_block - 1\n",
    "    x = transition_block(x, nb_filter, dropout_rate=dropout_rate, weight_decay=weight_decay)\n",
    "\n",
    "\n",
    "    # Add dense blocks - 2\n",
    "    for block_idx in range(nb_dense_block):\n",
    "        x, nb_filter = dense_block(x, nb_layers, nb_filter, growth_rate, dropout_rate=dropout_rate, weight_decay=weight_decay)\n",
    "\n",
    "    # add transition_block - 2\n",
    "    x = transition_block(x, nb_filter, dropout_rate=dropout_rate, weight_decay=weight_decay)\n",
    "\n",
    "\n",
    "    # Add dense blocks - 3\n",
    "    for block_idx in range(nb_dense_block):\n",
    "        x, nb_filter = dense_block(x, nb_layers, nb_filter, growth_rate, dropout_rate=dropout_rate, weight_decay=weight_decay)\n",
    "\n",
    "    x = Activation('relu')(x)\n",
    "    x = GlobalAveragePooling2D()(x)\n",
    "    x = Dense(nb_classes, activation='softmax', kernel_regularizer=l2(weight_decay), bias_regularizer=l2(weight_decay))(x)\n",
    "\n",
    "    densenet = Model(inputs=model_input, outputs=x)\n",
    "\n",
    "    if verbose:\n",
    "        print(\"DenseNet-%d-%d created.\" % (depth, growth_rate))\n",
    "\n",
    "    return densenet"
   ]
  }
 ],
 "metadata": {
  "kernelspec": {
   "display_name": "Python 3",
   "language": "python",
   "name": "python3"
  },
  "language_info": {
   "codemirror_mode": {
    "name": "ipython",
    "version": 3
   },
   "file_extension": ".py",
   "mimetype": "text/x-python",
   "name": "python",
   "nbconvert_exporter": "python",
   "pygments_lexer": "ipython3",
   "version": "3.6.4"
  }
 },
 "nbformat": 4,
 "nbformat_minor": 2
}
